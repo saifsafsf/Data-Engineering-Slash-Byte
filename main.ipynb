{
 "cells": [
  {
   "cell_type": "code",
   "execution_count": 3,
   "metadata": {},
   "outputs": [],
   "source": [
    "from bs4 import BeautifulSoup\n",
    "import requests\n",
    "import pandas as pd\n",
    "from selenium import webdriver\n",
    "from selenium.webdriver.common.by import By\n",
    "from selenium.webdriver.support.ui import WebDriverWait\n",
    "from selenium.webdriver.common.keys import Keys\n",
    "from selenium.webdriver.support import expected_conditions as EC\n",
    "from selenium.webdriver.common.action_chains import ActionChains\n",
    "import pyautogui\n",
    "import time"
   ]
  },
  {
   "cell_type": "code",
   "execution_count": 6,
   "metadata": {},
   "outputs": [
    {
     "name": "stdout",
     "output_type": "stream",
     "text": [
      "done?\n",
      "nopes\n"
     ]
    }
   ],
   "source": [
    "driver = webdriver.Chrome()\n",
    "location = 'Lahore'\n",
    "driver.get('https://www.zameen.com/')\n",
    "time.sleep(10)\n",
    "\n",
    "button = WebDriverWait(driver, 30).until(\n",
    "            EC.presence_of_element_located((By.ID, \"google_ads_iframe_/31946216/Splash_660x500_0\"))\n",
    "        )\n",
    "        \n",
    "# Click the button\n",
    "button.click()\n",
    "\n",
    "pyautogui.hotkey('ctrl', 'w')\n",
    "\n",
    "button = WebDriverWait(driver, 30).until(\n",
    "            EC.presence_of_element_located((By.CLASS_NAME, \"ef5cccac\"))\n",
    "        )\n",
    "        \n",
    "# Click the button\n",
    "button.click()\n",
    "\n",
    "time.sleep(10)\n",
    "print('done?')\n",
    "\n",
    "button = WebDriverWait(driver, 30).until(\n",
    "    EC.presence_of_element_located((By.XPATH, f\"//button[@aria-label='{location}']\"))\n",
    ")\n",
    "\n",
    "# Click the button\n",
    "button.click()\n",
    "\n",
    "print('nopes')"
   ]
  },
  {
   "cell_type": "code",
   "execution_count": 7,
   "metadata": {},
   "outputs": [
    {
     "name": "stdout",
     "output_type": "stream",
     "text": [
      "done\n"
     ]
    }
   ],
   "source": [
    "button = WebDriverWait(driver, 30).until(\n",
    "            EC.presence_of_element_located((By.XPATH, f\"//a[@aria-label='Find button']\"))\n",
    "        )\n",
    "        \n",
    "        # Click the button\n",
    "button.click()\n",
    "print('done')"
   ]
  },
  {
   "cell_type": "code",
   "execution_count": 9,
   "metadata": {},
   "outputs": [],
   "source": [
    "soup = BeautifulSoup(driver.page_source, 'lxml')\n",
    "\n",
    "listings = soup.find_all('h2', class_ = 'c0df3811')\n",
    "titles = []\n",
    "for listing in listings:\n",
    "    titles.append(listing.text)\n",
    "\n",
    "listings = soup.find_all('span', class_ = 'f343d9ce')\n",
    "prices = []\n",
    "for listing in listings:\n",
    "    prices.append(listing.text)\n",
    "\n",
    "listings = soup.find_all('div', class_ = 'f74e80f3')\n",
    "links = []\n",
    "for listing in listings:\n",
    "    links.append(f\"https://www.zameen.com{listing.a['href']}\")\n",
    "\n",
    "data_dict = {\n",
    "    'title':titles,\n",
    "    'price':prices,\n",
    "    'link':links\n",
    "}\n",
    "\n",
    "\n",
    "\n",
    "df = pd.DataFrame(data_dict)\n",
    "df.to_csv('zameen.csv', index=False)"
   ]
  },
  {
   "cell_type": "code",
   "execution_count": null,
   "metadata": {},
   "outputs": [],
   "source": []
  }
 ],
 "metadata": {
  "kernelspec": {
   "display_name": "Python 3",
   "language": "python",
   "name": "python3"
  },
  "language_info": {
   "codemirror_mode": {
    "name": "ipython",
    "version": 3
   },
   "file_extension": ".py",
   "mimetype": "text/x-python",
   "name": "python",
   "nbconvert_exporter": "python",
   "pygments_lexer": "ipython3",
   "version": "3.11.3"
  }
 },
 "nbformat": 4,
 "nbformat_minor": 2
}
